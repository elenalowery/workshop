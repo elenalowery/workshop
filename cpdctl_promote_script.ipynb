{
 "cells": [
  {
   "cell_type": "markdown",
   "metadata": {
    "id": "763e3465-2ef5-4676-8259-43860f53c55d"
   },
   "source": [
    "# *cpdctl* Sample Code for Promoting Scripts to a Deployment Space"
   ]
  },
  {
   "cell_type": "markdown",
   "metadata": {
    "id": "541e54bb-25a9-43b1-a893-488e5be41968"
   },
   "source": [
    "## Before you begin\n",
    "Import the following libraries:"
   ]
  },
  {
   "cell_type": "code",
   "execution_count": null,
   "metadata": {
    "id": "fe4eb805-a587-4ba9-aac0-b080b9acb390",
    "tags": []
   },
   "outputs": [],
   "source": [
    "# Import required libraries and modules\n",
    "import base64\n",
    "import json\n",
    "import os\n",
    "import platform\n",
    "import requests\n",
    "import tarfile\n",
    "import zipfile\n",
    "import jmespath\n",
    "import subprocess\n",
    "from IPython.core.display import display, HTML"
   ]
  },
  {
   "cell_type": "markdown",
   "metadata": {
    "id": "19ba5a1f-bdd4-4030-9b00-760e1c8324c6"
   },
   "source": [
    "##  Installing and configure CPDCTL <a class=\"anchor\" id=\"part1\"></a>"
   ]
  },
  {
   "cell_type": "markdown",
   "metadata": {
    "id": "895b5d6d-e81b-4027-95d3-c68517ce4d9e"
   },
   "source": [
    "### Install the latest version of CPDCTL <a class=\"anchor\" id=\"part1.1\"></a>### Install the version v1.1.132 of `cpdctl`"
   ]
  },
  {
   "cell_type": "markdown",
   "metadata": {
    "id": "7360f94e-d350-4009-acaf-96fac0f86216"
   },
   "source": [
    "To use the notebook and environment CLI commands, you need to install CPDCTL. Download the binary from the [CPDCTL GitHub respository](https://github.com/IBM/cpdctl/releases)."
   ]
  },
  {
   "cell_type": "markdown",
   "metadata": {
    "id": "51f11e3d-7ce9-4566-aaa0-b41c2b1dd56b"
   },
   "source": [
    "Download the binary and then display the version number:"
   ]
  },
  {
   "cell_type": "code",
   "execution_count": null,
   "metadata": {
    "id": "24f8a6c9-685c-4980-bfe2-a335f134ea83",
    "tags": []
   },
   "outputs": [],
   "source": [
    "PLATFORM = platform.system().lower()\n",
    "CPDCTL_ARCH = \"{}_amd64\".format(PLATFORM)\n",
    "CPDCTL_RELEASES_URL=\"https://api.github.com/repos/IBM/cpdctl/releases\"\n",
    "CWD = os.getcwd()\n",
    "PATH = os.environ['PATH']\n",
    "CPDCONFIG = os.path.join(CWD, '.cpdctl.config.yml')\n",
    "version='v1.1.132'\n",
    "\n",
    "response = requests.get(CPDCTL_RELEASES_URL)\n",
    "asset_version = next(a for a in response.json() if version==a['tag_name'])\n",
    "#assets = response.json()[0]['assets']\n",
    "assets=asset_version['assets']\n",
    "platform_asset = next(a for a in assets if CPDCTL_ARCH in a['name'])\n",
    "cpdctl_url = platform_asset['url']\n",
    "cpdctl_file_name = platform_asset['name']\n",
    "\n",
    "response = requests.get(cpdctl_url, headers={'Accept': 'application/octet-stream'})\n",
    "with open(cpdctl_file_name, 'wb') as f:\n",
    "    f.write(response.content)\n",
    "    \n",
    "display(HTML('<code>cpdctl</code> binary downloaded from: <a href=\"{}\">{}</a>'.format(platform_asset['browser_download_url'], platform_asset['name'])))"
   ]
  },
  {
   "cell_type": "code",
   "execution_count": null,
   "metadata": {
    "id": "e5c591f4-f2ce-48b3-b496-5c85177c3c82",
    "tags": []
   },
   "outputs": [],
   "source": [
    "%%capture\n",
    "\n",
    "%env PATH={CWD}:{PATH}\n",
    "%env CPDCONFIG={CPDCONFIG}"
   ]
  },
  {
   "cell_type": "code",
   "execution_count": null,
   "metadata": {
    "id": "c553c9dd-c425-4bee-b7db-2f0e10f6cbb4",
    "tags": []
   },
   "outputs": [],
   "source": [
    "if cpdctl_file_name.endswith('tar.gz'):\n",
    "    with tarfile.open(cpdctl_file_name, \"r:gz\") as tar:\n",
    "        tar.extractall()\n",
    "elif cpdctl_file_name.endswith('zip'):\n",
    "    with zipfile.ZipFile(cpdctl_file_name, 'r') as zf:\n",
    "        zf.extractall()\n",
    "\n",
    "if CPDCONFIG and os.path.exists(CPDCONFIG):\n",
    "    os.remove(CPDCONFIG)\n",
    "    \n",
    "version_r = ! cpdctl version\n",
    "CPDCTL_VERSION = version_r.s\n",
    "\n",
    "print(\"cpdctl version: {}\".format(CPDCTL_VERSION))"
   ]
  },
  {
   "cell_type": "markdown",
   "metadata": {
    "id": "069204dc-308a-4dbb-8b50-d173dddfd448"
   },
   "source": [
    "### Add CPD cluster configuration settings <a class=\"anchor\" id=\"part1.2\"></a>"
   ]
  },
  {
   "cell_type": "markdown",
   "metadata": {
    "id": "f8931550-d65c-4390-b295-faf0e334a8e2"
   },
   "source": [
    "Before you can use CPDCTL, you need to add configuration settings. You only need to configure these settings once for the same IBM Cloud Pak for Data (CPD) user and cluster. Begin by entering your CPD credentials and the URL to the CPD cluster:"
   ]
  },
  {
   "cell_type": "code",
   "execution_count": null,
   "metadata": {
    "id": "5e902cd5-cdff-40e5-999a-04f69f6d339a",
    "tags": []
   },
   "outputs": [],
   "source": [
    "# These values are needed only when using cpdctl outside of CPD\n",
    "#CPD_USERNAME = ' ' # for example: datascientist\n",
    "#CPD_PASSWORD = ' '\n",
    "#CPD_URL = ' ' #typically, this would be https://cpd-cpd-instance.apps.demo.ibmdte.net"
   ]
  },
  {
   "cell_type": "markdown",
   "metadata": {
    "id": "17cf7f8e-44e9-457b-b1e2-b812e2c82e1a"
   },
   "source": [
    "List available spaces in context:"
   ]
  },
  {
   "cell_type": "code",
   "execution_count": null,
   "metadata": {
    "id": "b6ba5d97-a3b7-4bc6-b32d-4cb86ecc2f89",
    "tags": []
   },
   "outputs": [],
   "source": [
    "! cpdctl space list"
   ]
  },
  {
   "cell_type": "markdown",
   "metadata": {
    "id": "7679bdf5-336d-4559-ab87-b4bcafcf269f"
   },
   "source": [
    "Choose the space to which you will copy the script"
   ]
  },
  {
   "cell_type": "code",
   "execution_count": null,
   "metadata": {
    "id": "4bc57103-d035-4f23-be5f-da597920ded2",
    "tags": []
   },
   "outputs": [],
   "source": [
    "#result = ! cpdctl space list --output json -j \"(resources[].metadata.id)[0]\" --raw-output\n",
    "#space_id = result.s\n",
    "# print(\"space id: {}\".format(space_id))\n",
    "\n",
    "# You can also specify your space id directly:\n",
    "space_id = \" \""
   ]
  },
  {
   "cell_type": "markdown",
   "metadata": {
    "id": "3a4d5c3f-4b66-4fd8-b86c-1d66c2a0b9c5"
   },
   "source": [
    "## 2.Creating a script asset and in the deployment space and run a job <a class=\"anchor\" id=\"part2\"></a>"
   ]
  },
  {
   "cell_type": "markdown",
   "metadata": {
    "id": "85ae008e-431e-460f-a069-e218d44073ad"
   },
   "source": [
    "### 2.1 Create a script asset<a class=\"anchor\" id=\"part2.1\"></a>"
   ]
  },
  {
   "cell_type": "markdown",
   "metadata": {
    "id": "d908010d-54c5-4d86-b650-78ff8d9505da"
   },
   "source": [
    "First, we create a *script asset* in your project. Assets are used to capture various metadata. To create a script asset you need to specify various fields as showin in metadata and location of the script file in JupyterLab file directory.  \n",
    "\n",
    "In our example we created a script directory on the same level as *notebooks* and *data_assets* directories that are created by default in Watson Studio. We also created a simple script that we named *testscript.py*"
   ]
  },
  {
   "cell_type": "code",
   "execution_count": null,
   "metadata": {
    "id": "654d7abc-8339-43b8-81d4-52fae5ba1742",
    "tags": []
   },
   "outputs": [],
   "source": [
    "# Display the current directory so that we can correctly specify the directory to the /script folder\n",
    "!pwd"
   ]
  },
  {
   "cell_type": "code",
   "execution_count": null,
   "metadata": {
    "id": "330b7e1a-b45a-4da0-b313-d605f6f474ae",
    "tags": []
   },
   "outputs": [],
   "source": [
    "\n",
    "# for the Remote path (the path in the Deployment space), we must always use the script/prefix\n",
    "remote_file_path = \"script/testscript.py\"\n",
    "# Local path may be different in your en\n",
    "local_file_path = \"../script/testscript.py\""
   ]
  },
  {
   "cell_type": "code",
   "execution_count": null,
   "metadata": {
    "id": "2e3008c5-9470-4c0c-9905-a539969bb9f8",
    "tags": []
   },
   "outputs": [],
   "source": [
    "# Upload the file to the temp space used by cpdctl for copying files between projects and spaces\n",
    "! cpdctl asset file upload --path {remote_file_path} --file {local_file_path} --space-id {space_id}"
   ]
  },
  {
   "cell_type": "markdown",
   "metadata": {
    "id": "7599eb93-5a14-4183-83b6-23c8d9bf25c4"
   },
   "source": [
    "Create a script asset:"
   ]
  },
  {
   "cell_type": "code",
   "execution_count": null,
   "metadata": {
    "id": "b5840074-08cf-421a-a385-761e8f974e58",
    "tags": []
   },
   "outputs": [],
   "source": [
    "# Specify the metadata, entity and attachments of the script file:\n",
    "\n",
    "metadata = {\n",
    "    \"name\": \"my_test_script_with_env_var\",\n",
    "    \"asset_type\": \"script\",\n",
    "    \"asset_category\": \"USER\",\n",
    "    \"origin_country\": \"us\"\n",
    "}\n",
    "metadata_json = json.dumps(metadata)\n",
    "\n",
    "entity = {\n",
    "    \"script\": {\n",
    "        \"language\": {\n",
    "            \"name\": \"python3\"\n",
    "        }\n",
    "    }\n",
    "}\n",
    "entity_json = json.dumps(entity)\n",
    "\n",
    "attachments = [\n",
    "    {\n",
    "        \"asset_type\": \"script\",\n",
    "        \"name\": \"my_test_script\",\n",
    "        \"description\": \"attachment for script\",\n",
    "        \"mime\": \"application/text\",\n",
    "        \"object_key\": remote_file_path\n",
    "    }\n",
    "]\n",
    "attachments_json = json.dumps(attachments)"
   ]
  },
  {
   "cell_type": "code",
   "execution_count": null,
   "metadata": {
    "id": "7ac5531a-6be2-4be9-9902-c29d888c797c",
    "tags": []
   },
   "outputs": [],
   "source": [
    "# Create a Python script asset in the deployment space:\n",
    "\n",
    "result = ! cpdctl asset create  --metadata '{metadata_json}' --entity '{entity_json}' --attachments '{attachments_json}' --space-id {space_id} --output json -j \"metadata.asset_id\" --raw-output\n",
    "script_id = result.s\n",
    "print(\"script id: {}\".format(script_id))"
   ]
  },
  {
   "cell_type": "markdown",
   "metadata": {
    "id": "208a80d9-75e8-49cc-befb-6467f9c18dfc"
   },
   "source": [
    "<span style=\"color:red\">Important Note: Check the target deployment space. *Notebook1* should show up in the Assets tab. </span>"
   ]
  },
  {
   "cell_type": "markdown",
   "metadata": {
    "id": "27d76742-63c9-40c1-9142-c77927be9915"
   },
   "source": [
    "Copyright © 2021 IBM. This notebook and its source code are released under the terms of the MIT License."
   ]
  }
 ],
 "metadata": {
  "kernelspec": {
   "display_name": "Python 3.10",
   "language": "python",
   "name": "python3"
  },
  "language_info": {
   "codemirror_mode": {
    "name": "ipython",
    "version": 3
   },
   "file_extension": ".py",
   "mimetype": "text/x-python",
   "name": "python",
   "nbconvert_exporter": "python",
   "pygments_lexer": "ipython3",
   "version": "3.10.6"
  }
 },
 "nbformat": 4,
 "nbformat_minor": 4
}

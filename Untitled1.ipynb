{
 "cells": [
  {
   "cell_type": "code",
   "execution_count": null,
   "id": "cbdc7f40-75d1-4c63-bc77-adc641603e56",
   "metadata": {
    "id": "b4f7bc94-13fa-4ca4-bb06-fc2a9930e1bd"
   },
   "outputs": [],
   "source": []
  }
 ],
 "metadata": {
  "kernelspec": {
   "display_name": "Python 3.10",
   "language": "python",
   "name": "python3"
  },
  "language_info": {
   "codemirror_mode": {
    "name": "ipython",
    "version": 3
   },
   "file_extension": ".py",
   "mimetype": "text/x-python",
   "name": "python",
   "nbconvert_exporter": "python",
   "pygments_lexer": "ipython3",
   "version": "3.10.6"
  }
 },
 "nbformat": 4,
 "nbformat_minor": 5
}

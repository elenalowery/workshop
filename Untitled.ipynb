{
 "cells": [
  {
   "cell_type": "code",
   "execution_count": null,
   "id": "087b91ac-f951-46ae-b276-1d00712781e8",
   "metadata": {
    "id": "a84f7dc4-3d54-4f20-87da-e06f81b26fd5"
   },
   "outputs": [],
   "source": [
    "import itc_utils.flight_service as itcfs\n",
    "\n",
    "from pyspark.sql import SparkSession\n",
    "spark = SparkSession.builder.getOrCreate()\n",
    "spark.conf.set(\"spark.sql.execution.arrow.pyspark.enabled\", \"true\")\n",
    "\n",
    "readClient = itcfs.get_flight_client()\n",
    "\n",
    "nb_data_request = {\n",
    "    'data_name': \"\"\"Sample_Salary_Data.csv\"\"\",\n",
    "    'interaction_properties': {\n",
    "        #'row_limit': 500,\n",
    "        'infer_schema': 'true',\n",
    "        'infer_as_varchar': 'false'\n",
    "    }\n",
    "}\n",
    "\n",
    "flightInfo = itcfs.get_flight_info(readClient, nb_data_request=nb_data_request)\n",
    "\n",
    "data_df_0 = itcfs.read_pandas_and_concat(readClient, flightInfo, timeout=240)\n",
    "sp_df_1 = spark.createDataFrame(data_df_0)\n",
    "sp_df_1.show(10)\n"
   ]
  },
  {
   "cell_type": "code",
   "execution_count": null,
   "id": "e862e3a8-13ef-49f7-9bd4-0348077f73fe",
   "metadata": {
    "id": "8d2cfb75-6237-42ea-9c52-703b3d1b6b9f"
   },
   "outputs": [],
   "source": [
    "from ibm_watson_studio_lib import access_project_or_space\n",
    "wslib = access_project_or_space()\n",
    "\n",
    "\n",
    "df_data_1 = spark.read.csv(wslib.mount.get_data_path('Sample_Salary_Data.csv'), header='true', inferSchema = 'true')\n",
    "df_data_1.show(5)\n",
    "\n"
   ]
  },
  {
   "cell_type": "code",
   "execution_count": null,
   "id": "4b31bc4a-f81f-4c9a-a1e0-6a885c680f85",
   "metadata": {
    "id": "99a041e1-a985-4d38-a8ae-a86d678f5622"
   },
   "outputs": [],
   "source": []
  }
 ],
 "metadata": {
  "kernelspec": {
   "display_name": "Python 3.10",
   "language": "python",
   "name": "python3"
  },
  "language_info": {
   "codemirror_mode": {
    "name": "ipython",
    "version": 3
   },
   "file_extension": ".py",
   "mimetype": "text/x-python",
   "name": "python",
   "nbconvert_exporter": "python",
   "pygments_lexer": "ipython3",
   "version": "3.10.6"
  }
 },
 "nbformat": 4,
 "nbformat_minor": 5
}
